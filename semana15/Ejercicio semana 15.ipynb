{
 "cells": [
  {
   "cell_type": "code",
   "execution_count": 5,
   "metadata": {},
   "outputs": [],
   "source": [
    "import numpy as np\n",
    "import matplotlib.pyplot as plt\n",
    "import scipy.constants as const\n",
    "%matplotlib inline"
   ]
  },
  {
   "cell_type": "markdown",
   "metadata": {},
   "source": [
    "# Ejercicio de la semana 15"
   ]
  },
  {
   "cell_type": "code",
   "execution_count": 16,
   "metadata": {},
   "outputs": [],
   "source": [
    "h= const. Planck\n",
    "k= const. Boltzmann\n",
    "c= const. c\n",
    "v=30\n",
    "T=10\n",
    "#Se añaden las constantes que se van a utilizar"
   ]
  },
  {
   "cell_type": "code",
   "execution_count": 7,
   "metadata": {},
   "outputs": [
    {
     "name": "stdout",
     "output_type": "stream",
     "text": [
      "6.62607004e-34 1.38064852e-23 299792458.0\n"
     ]
    }
   ],
   "source": [
    "print (h,k,c)\n",
    "#Quise comprobar que con la biblioteca de scipy.constants estuvieran bien los datos"
   ]
  },
  {
   "cell_type": "code",
   "execution_count": 8,
   "metadata": {},
   "outputs": [],
   "source": [
    "datos= np.loadtxt('IRCF.txt')\n",
    "#leer los datos del archivo previamente establecido por la maestra"
   ]
  },
  {
   "cell_type": "markdown",
   "metadata": {},
   "source": [
    "# Frecuencia"
   ]
  },
  {
   "cell_type": "code",
   "execution_count": 9,
   "metadata": {},
   "outputs": [],
   "source": [
    "c1= datos[:,0:1]\n",
    "c2= datos[:,1:2]\n",
    "c3= datos[:,3:4]\n"
   ]
  },
  {
   "cell_type": "code",
   "execution_count": 10,
   "metadata": {},
   "outputs": [
    {
     "name": "stdout",
     "output_type": "stream",
     "text": [
      "[[ 2.27]\n",
      " [ 2.72]\n",
      " [ 3.18]\n",
      " [ 3.63]\n",
      " [ 4.08]\n",
      " [ 4.54]\n",
      " [ 4.99]\n",
      " [ 5.45]\n",
      " [ 5.9 ]\n",
      " [ 6.35]\n",
      " [ 6.81]\n",
      " [ 7.26]\n",
      " [ 7.71]\n",
      " [ 8.17]\n",
      " [ 8.62]\n",
      " [ 9.08]\n",
      " [ 9.53]\n",
      " [ 9.98]\n",
      " [10.44]\n",
      " [10.89]\n",
      " [11.34]\n",
      " [11.8 ]\n",
      " [12.25]\n",
      " [12.71]\n",
      " [13.16]\n",
      " [13.61]\n",
      " [14.07]\n",
      " [14.52]\n",
      " [14.97]\n",
      " [15.43]\n",
      " [15.88]\n",
      " [16.34]\n",
      " [16.79]\n",
      " [17.24]\n",
      " [17.7 ]\n",
      " [18.15]\n",
      " [18.61]\n",
      " [19.06]\n",
      " [19.51]\n",
      " [19.97]\n",
      " [20.42]\n",
      " [20.87]\n",
      " [21.33]] [[200.723]\n",
      " [249.508]\n",
      " [293.024]\n",
      " [327.77 ]\n",
      " [354.081]\n",
      " [372.079]\n",
      " [381.493]\n",
      " [383.478]\n",
      " [378.901]\n",
      " [368.833]\n",
      " [354.063]\n",
      " [336.278]\n",
      " [316.076]\n",
      " [293.924]\n",
      " [271.432]\n",
      " [248.239]\n",
      " [225.94 ]\n",
      " [204.327]\n",
      " [183.262]\n",
      " [163.83 ]\n",
      " [145.75 ]\n",
      " [128.835]\n",
      " [113.568]\n",
      " [ 99.451]\n",
      " [ 87.036]\n",
      " [ 75.876]\n",
      " [ 65.766]\n",
      " [ 57.008]\n",
      " [ 49.223]\n",
      " [ 42.267]\n",
      " [ 36.352]\n",
      " [ 31.062]\n",
      " [ 26.58 ]\n",
      " [ 22.644]\n",
      " [ 19.255]\n",
      " [ 16.391]\n",
      " [ 13.811]\n",
      " [ 11.716]\n",
      " [  9.921]\n",
      " [  8.364]\n",
      " [  7.087]\n",
      " [  5.801]\n",
      " [  4.523]] [[ 14.]\n",
      " [ 19.]\n",
      " [ 25.]\n",
      " [ 23.]\n",
      " [ 22.]\n",
      " [ 21.]\n",
      " [ 18.]\n",
      " [ 18.]\n",
      " [ 16.]\n",
      " [ 14.]\n",
      " [ 13.]\n",
      " [ 12.]\n",
      " [ 11.]\n",
      " [ 10.]\n",
      " [ 11.]\n",
      " [ 12.]\n",
      " [ 14.]\n",
      " [ 16.]\n",
      " [ 18.]\n",
      " [ 22.]\n",
      " [ 22.]\n",
      " [ 23.]\n",
      " [ 23.]\n",
      " [ 23.]\n",
      " [ 22.]\n",
      " [ 21.]\n",
      " [ 20.]\n",
      " [ 19.]\n",
      " [ 19.]\n",
      " [ 19.]\n",
      " [ 21.]\n",
      " [ 23.]\n",
      " [ 26.]\n",
      " [ 28.]\n",
      " [ 30.]\n",
      " [ 32.]\n",
      " [ 33.]\n",
      " [ 35.]\n",
      " [ 41.]\n",
      " [ 55.]\n",
      " [ 88.]\n",
      " [155.]\n",
      " [282.]]\n"
     ]
    }
   ],
   "source": [
    "print(c1,c2,c3)"
   ]
  },
  {
   "cell_type": "code",
   "execution_count": 11,
   "metadata": {},
   "outputs": [
    {
     "data": {
      "text/plain": [
       "<ErrorbarContainer object of 3 artists>"
      ]
     },
     "execution_count": 11,
     "metadata": {},
     "output_type": "execute_result"
    },
    {
     "data": {
      "image/png": "[encoded data removed]",
      "text/plain": [
       "<Figure size 432x288 with 1 Axes>"
      ]
     },
     "metadata": {},
     "output_type": "display_data"
    }
   ],
   "source": [
    "plt.errorbar(c1,c2,c3)\n",
    "#grafica de datos"
   ]
  },
  {
   "cell_type": "code",
   "execution_count": 15,
   "metadata": {},
   "outputs": [
    {
     "name": "stderr",
     "output_type": "stream",
     "text": [
      "/usr/lib64/python3.6/site-packages/matplotlib/figure.py:1316: FutureWarning: elementwise comparison failed; returning scalar instead, but in the future will perform elementwise comparison\n",
      "  if sharex not in share_values:\n"
     ]
    },
    {
     "ename": "ValueError",
     "evalue": "sharex [[[ 14.]\n [ 19.]\n [ 25.]\n [ 23.]\n [ 22.]\n [ 21.]\n [ 18.]\n [ 18.]\n [ 16.]\n [ 14.]\n [ 13.]\n [ 12.]\n [ 11.]\n [ 10.]\n [ 11.]\n [ 12.]\n [ 14.]\n [ 16.]\n [ 18.]\n [ 22.]\n [ 22.]\n [ 23.]\n [ 23.]\n [ 23.]\n [ 22.]\n [ 21.]\n [ 20.]\n [ 19.]\n [ 19.]\n [ 19.]\n [ 21.]\n [ 23.]\n [ 26.]\n [ 28.]\n [ 30.]\n [ 32.]\n [ 33.]\n [ 35.]\n [ 41.]\n [ 55.]\n [ 88.]\n [155.]\n [282.]]] must be one of ['all', 'row', 'col', 'none']",
     "output_type": "error",
     "traceback": [
      "\u001b[0;31m---------------------------------------------------------------------------\u001b[0m",
      "\u001b[0;31mValueError\u001b[0m                                Traceback (most recent call last)",
      "\u001b[0;32m<ipython-input-15-8d45b101a55d>\u001b[0m in \u001b[0;36m<module>\u001b[0;34m()\u001b[0m\n\u001b[0;32m----> 1\u001b[0;31m \u001b[0mplt\u001b[0m\u001b[0;34m.\u001b[0m\u001b[0msubplots\u001b[0m\u001b[0;34m(\u001b[0m\u001b[0mc1\u001b[0m\u001b[0;34m,\u001b[0m\u001b[0mc2\u001b[0m\u001b[0;34m,\u001b[0m\u001b[0mc3\u001b[0m\u001b[0;34m)\u001b[0m\u001b[0;34m\u001b[0m\u001b[0m\n\u001b[0m",
      "\u001b[0;32m/usr/lib64/python3.6/site-packages/matplotlib/pyplot.py\u001b[0m in \u001b[0;36msubplots\u001b[0;34m(nrows, ncols, sharex, sharey, squeeze, subplot_kw, gridspec_kw, **fig_kw)\u001b[0m\n\u001b[1;32m   1199\u001b[0m     axs = fig.subplots(nrows=nrows, ncols=ncols, sharex=sharex, sharey=sharey,\n\u001b[1;32m   1200\u001b[0m                        \u001b[0msqueeze\u001b[0m\u001b[0;34m=\u001b[0m\u001b[0msqueeze\u001b[0m\u001b[0;34m,\u001b[0m \u001b[0msubplot_kw\u001b[0m\u001b[0;34m=\u001b[0m\u001b[0msubplot_kw\u001b[0m\u001b[0;34m,\u001b[0m\u001b[0;34m\u001b[0m\u001b[0m\n\u001b[0;32m-> 1201\u001b[0;31m                        gridspec_kw=gridspec_kw)\n\u001b[0m\u001b[1;32m   1202\u001b[0m     \u001b[0;32mreturn\u001b[0m \u001b[0mfig\u001b[0m\u001b[0;34m,\u001b[0m \u001b[0maxs\u001b[0m\u001b[0;34m\u001b[0m\u001b[0m\n\u001b[1;32m   1203\u001b[0m \u001b[0;34m\u001b[0m\u001b[0m\n",
      "\u001b[0;32m/usr/lib64/python3.6/site-packages/matplotlib/figure.py\u001b[0m in \u001b[0;36msubplots\u001b[0;34m(self, nrows, ncols, sharex, sharey, squeeze, subplot_kw, gridspec_kw)\u001b[0m\n\u001b[1;32m   1326\u001b[0m \u001b[0;34m\u001b[0m\u001b[0m\n\u001b[1;32m   1327\u001b[0m             raise ValueError(\"sharex [%s] must be one of %s\" %\n\u001b[0;32m-> 1328\u001b[0;31m                              (sharex, share_values))\n\u001b[0m\u001b[1;32m   1329\u001b[0m         \u001b[0;32mif\u001b[0m \u001b[0msharey\u001b[0m \u001b[0;32mnot\u001b[0m \u001b[0;32min\u001b[0m \u001b[0mshare_values\u001b[0m\u001b[0;34m:\u001b[0m\u001b[0;34m\u001b[0m\u001b[0m\n\u001b[1;32m   1330\u001b[0m             raise ValueError(\"sharey [%s] must be one of %s\" %\n",
      "\u001b[0;31mValueError\u001b[0m: sharex [[[ 14.]\n [ 19.]\n [ 25.]\n [ 23.]\n [ 22.]\n [ 21.]\n [ 18.]\n [ 18.]\n [ 16.]\n [ 14.]\n [ 13.]\n [ 12.]\n [ 11.]\n [ 10.]\n [ 11.]\n [ 12.]\n [ 14.]\n [ 16.]\n [ 18.]\n [ 22.]\n [ 22.]\n [ 23.]\n [ 23.]\n [ 23.]\n [ 22.]\n [ 21.]\n [ 20.]\n [ 19.]\n [ 19.]\n [ 19.]\n [ 21.]\n [ 23.]\n [ 26.]\n [ 28.]\n [ 30.]\n [ 32.]\n [ 33.]\n [ 35.]\n [ 41.]\n [ 55.]\n [ 88.]\n [155.]\n [282.]]] must be one of ['all', 'row', 'col', 'none']"
     ]
    },
    {
     "data": {
      "text/plain": [
       "<Figure size 432x288 with 0 Axes>"
      ]
     },
     "metadata": {},
     "output_type": "display_data"
    }
   ],
   "source": [
    "plt.subplots(c1,c2,c3)"
   ]
  },
  {
   "cell_type": "code",
   "execution_count": 17,
   "metadata": {},
   "outputs": [],
   "source": [
    "A=(((h*v**3)/(c**2))*(1/np.exp((h*v)/(k*T))-1))"
   ]
  },
  {
   "cell_type": "code",
   "execution_count": 18,
   "metadata": {},
   "outputs": [
    {
     "name": "stdout",
     "output_type": "stream",
     "text": [
      "-2.8659745448996017e-56\n"
     ]
    }
   ],
   "source": [
    "print(A) #A es la intensidad, las unidades se encuentran en el SI"
   ]
  },
  {
   "cell_type": "code",
   "execution_count": null,
   "metadata": {},
   "outputs": [],
   "source": [
    "#Falta pasar las unidades a Jansky/s"
   ]
  }
 ],
 "metadata": {
  "kernelspec": {
   "display_name": "Python 2",
   "language": "python",
   "name": "python2"
  },
  "language_info": {
   "codemirror_mode": {
    "name": "ipython",
    "version": 3
   },
   "file_extension": ".py",
   "mimetype": "text/x-python",
   "name": "python",
   "nbconvert_exporter": "python",
   "pygments_lexer": "ipython3",
   "version": "3.6.6"
  }
 },
 "nbformat": 4,
 "nbformat_minor": 2
}
